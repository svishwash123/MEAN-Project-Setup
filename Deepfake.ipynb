{
  "cells": [
    {
      "cell_type": "markdown",
      "metadata": {
        "id": "view-in-github",
        "colab_type": "text"
      },
      "source": [
        "<a href=\"https://colab.research.google.com/github/svishwash123/MEAN-Project-Setup/blob/master/Deepfake.ipynb\" target=\"_parent\"><img src=\"https://colab.research.google.com/assets/colab-badge.svg\" alt=\"Open In Colab\"/></a>"
      ]
    },
    {
      "cell_type": "markdown",
      "source": [
        "# DeepFake\n",
        "\n",
        "Deepfake is a technology that uses artificial intelligence to manipulate the appearance and voice of a person in a video. Roop uses a face swapping technique that replaces the original face in the video with the desired face, while preserving the facial expressions and movements.\n",
        "\n",
        "# Roop Repo\n",
        "Roop is a repository on GitHub that allows users to create deepfake videos using only one image of the desired face.\n",
        "\n",
        "Roop was developed by s0md3v, a security researcher and developer from India1. He started the project in May 2021 and discontinued it in August 2023, citing ethical issues and breach of trust by another developer who published a problematic video to the documentation of the project1. Roop has received over 400 commits and 2,000 stars on GitHub1. It has also been forked by other developers who have made some modifications and improvements2"
      ],
      "metadata": {
        "id": "gJ2GigCVQLJI"
      }
    },
    {
      "cell_type": "markdown",
      "metadata": {
        "id": "D3L8Lkyj-5gl"
      },
      "source": [
        "#Step 1: Clone the Roop repository from Github and install the required dependencies"
      ]
    },
    {
      "cell_type": "code",
      "execution_count": 1,
      "metadata": {
        "id": "0aHr4Fo-7IRy",
        "outputId": "bb0100fa-ac3e-4e15-d79b-bfde95ef63c2",
        "colab": {
          "base_uri": "https://localhost:8080/"
        }
      },
      "outputs": [
        {
          "output_type": "stream",
          "name": "stdout",
          "text": [
            "fatal: destination path 'roop' already exists and is not an empty directory.\n",
            "/content/roop\n",
            "Looking in indexes: https://pypi.org/simple, https://download.pytorch.org/whl/cu118\n",
            "Ignoring tkinterdnd2-universal: markers 'sys_platform == \"darwin\" and platform_machine == \"arm64\"' don't match your environment\n",
            "Ignoring onnxruntime: markers 'python_version != \"3.9\" and sys_platform == \"darwin\" and platform_machine != \"arm64\"' don't match your environment\n",
            "Ignoring onnxruntime-coreml: markers 'python_version == \"3.9\" and sys_platform == \"darwin\" and platform_machine != \"arm64\"' don't match your environment\n",
            "Ignoring onnxruntime-silicon: markers 'sys_platform == \"darwin\" and platform_machine == \"arm64\"' don't match your environment\n",
            "Requirement already satisfied: numpy==1.24.3 in /usr/local/lib/python3.11/dist-packages (from -r requirements.txt (line 3)) (1.24.3)\n",
            "Requirement already satisfied: opencv-python==4.8.0.74 in /usr/local/lib/python3.11/dist-packages (from -r requirements.txt (line 4)) (4.8.0.74)\n",
            "Requirement already satisfied: onnx==1.14.0 in /usr/local/lib/python3.11/dist-packages (from -r requirements.txt (line 5)) (1.14.0)\n",
            "Requirement already satisfied: insightface==0.7.3 in /usr/local/lib/python3.11/dist-packages (from -r requirements.txt (line 6)) (0.7.3)\n",
            "Requirement already satisfied: psutil==5.9.5 in /usr/local/lib/python3.11/dist-packages (from -r requirements.txt (line 7)) (5.9.5)\n",
            "Requirement already satisfied: tk==0.1.0 in /usr/local/lib/python3.11/dist-packages (from -r requirements.txt (line 8)) (0.1.0)\n",
            "Requirement already satisfied: customtkinter==5.2.0 in /usr/local/lib/python3.11/dist-packages (from -r requirements.txt (line 9)) (5.2.0)\n",
            "Requirement already satisfied: tkinterdnd2==0.3.0 in /usr/local/lib/python3.11/dist-packages (from -r requirements.txt (line 10)) (0.3.0)\n",
            "Requirement already satisfied: pillow==10.0.0 in /usr/local/lib/python3.11/dist-packages (from -r requirements.txt (line 12)) (10.0.0)\n",
            "Requirement already satisfied: onnxruntime-gpu==1.15.1 in /usr/local/lib/python3.11/dist-packages (from -r requirements.txt (line 16)) (1.15.1)\n",
            "Requirement already satisfied: tensorflow==2.13.0 in /usr/local/lib/python3.11/dist-packages (from -r requirements.txt (line 17)) (2.13.0)\n",
            "Requirement already satisfied: opennsfw2==0.10.2 in /usr/local/lib/python3.11/dist-packages (from -r requirements.txt (line 18)) (0.10.2)\n",
            "Requirement already satisfied: protobuf==4.23.4 in /usr/local/lib/python3.11/dist-packages (from -r requirements.txt (line 19)) (4.23.4)\n",
            "Requirement already satisfied: tqdm==4.65.0 in /usr/local/lib/python3.11/dist-packages (from -r requirements.txt (line 20)) (4.65.0)\n",
            "Requirement already satisfied: gfpgan==1.3.8 in /usr/local/lib/python3.11/dist-packages (from -r requirements.txt (line 21)) (1.3.8)\n",
            "Requirement already satisfied: typing-extensions>=3.6.2.1 in /usr/local/lib/python3.11/dist-packages (from onnx==1.14.0->-r requirements.txt (line 5)) (4.5.0)\n",
            "Requirement already satisfied: requests in /usr/local/lib/python3.11/dist-packages (from insightface==0.7.3->-r requirements.txt (line 6)) (2.32.3)\n",
            "Requirement already satisfied: matplotlib in /usr/local/lib/python3.11/dist-packages (from insightface==0.7.3->-r requirements.txt (line 6)) (3.10.0)\n",
            "Requirement already satisfied: scipy in /usr/local/lib/python3.11/dist-packages (from insightface==0.7.3->-r requirements.txt (line 6)) (1.13.1)\n",
            "Requirement already satisfied: scikit-learn in /usr/local/lib/python3.11/dist-packages (from insightface==0.7.3->-r requirements.txt (line 6)) (1.6.1)\n",
            "Requirement already satisfied: scikit-image in /usr/local/lib/python3.11/dist-packages (from insightface==0.7.3->-r requirements.txt (line 6)) (0.24.0)\n",
            "Requirement already satisfied: easydict in /usr/local/lib/python3.11/dist-packages (from insightface==0.7.3->-r requirements.txt (line 6)) (1.13)\n",
            "Requirement already satisfied: cython in /usr/local/lib/python3.11/dist-packages (from insightface==0.7.3->-r requirements.txt (line 6)) (3.0.11)\n",
            "Requirement already satisfied: albumentations in /usr/local/lib/python3.11/dist-packages (from insightface==0.7.3->-r requirements.txt (line 6)) (1.3.1)\n",
            "Requirement already satisfied: prettytable in /usr/local/lib/python3.11/dist-packages (from insightface==0.7.3->-r requirements.txt (line 6)) (3.13.0)\n",
            "Requirement already satisfied: darkdetect in /usr/local/lib/python3.11/dist-packages (from customtkinter==5.2.0->-r requirements.txt (line 9)) (0.8.0)\n",
            "Requirement already satisfied: coloredlogs in /usr/local/lib/python3.11/dist-packages (from onnxruntime-gpu==1.15.1->-r requirements.txt (line 16)) (15.0.1)\n",
            "Requirement already satisfied: flatbuffers in /usr/local/lib/python3.11/dist-packages (from onnxruntime-gpu==1.15.1->-r requirements.txt (line 16)) (25.1.24)\n",
            "Requirement already satisfied: packaging in /usr/local/lib/python3.11/dist-packages (from onnxruntime-gpu==1.15.1->-r requirements.txt (line 16)) (24.2)\n",
            "Requirement already satisfied: sympy in /usr/local/lib/python3.11/dist-packages (from onnxruntime-gpu==1.15.1->-r requirements.txt (line 16)) (1.13.1)\n",
            "Requirement already satisfied: absl-py>=1.0.0 in /usr/local/lib/python3.11/dist-packages (from tensorflow==2.13.0->-r requirements.txt (line 17)) (1.4.0)\n",
            "Requirement already satisfied: astunparse>=1.6.0 in /usr/local/lib/python3.11/dist-packages (from tensorflow==2.13.0->-r requirements.txt (line 17)) (1.6.3)\n",
            "Requirement already satisfied: gast<=0.4.0,>=0.2.1 in /usr/local/lib/python3.11/dist-packages (from tensorflow==2.13.0->-r requirements.txt (line 17)) (0.4.0)\n",
            "Requirement already satisfied: google-pasta>=0.1.1 in /usr/local/lib/python3.11/dist-packages (from tensorflow==2.13.0->-r requirements.txt (line 17)) (0.2.0)\n",
            "Requirement already satisfied: grpcio<2.0,>=1.24.3 in /usr/local/lib/python3.11/dist-packages (from tensorflow==2.13.0->-r requirements.txt (line 17)) (1.70.0)\n",
            "Requirement already satisfied: h5py>=2.9.0 in /usr/local/lib/python3.11/dist-packages (from tensorflow==2.13.0->-r requirements.txt (line 17)) (3.12.1)\n",
            "Requirement already satisfied: keras<2.14,>=2.13.1 in /usr/local/lib/python3.11/dist-packages (from tensorflow==2.13.0->-r requirements.txt (line 17)) (2.13.1)\n",
            "Requirement already satisfied: libclang>=13.0.0 in /usr/local/lib/python3.11/dist-packages (from tensorflow==2.13.0->-r requirements.txt (line 17)) (18.1.1)\n",
            "Requirement already satisfied: opt-einsum>=2.3.2 in /usr/local/lib/python3.11/dist-packages (from tensorflow==2.13.0->-r requirements.txt (line 17)) (3.4.0)\n",
            "Requirement already satisfied: setuptools in /usr/local/lib/python3.11/dist-packages (from tensorflow==2.13.0->-r requirements.txt (line 17)) (75.1.0)\n",
            "Requirement already satisfied: six>=1.12.0 in /usr/local/lib/python3.11/dist-packages (from tensorflow==2.13.0->-r requirements.txt (line 17)) (1.17.0)\n",
            "Requirement already satisfied: tensorboard<2.14,>=2.13 in /usr/local/lib/python3.11/dist-packages (from tensorflow==2.13.0->-r requirements.txt (line 17)) (2.13.0)\n",
            "Requirement already satisfied: tensorflow-estimator<2.14,>=2.13.0 in /usr/local/lib/python3.11/dist-packages (from tensorflow==2.13.0->-r requirements.txt (line 17)) (2.13.0)\n",
            "Requirement already satisfied: termcolor>=1.1.0 in /usr/local/lib/python3.11/dist-packages (from tensorflow==2.13.0->-r requirements.txt (line 17)) (2.5.0)\n",
            "Requirement already satisfied: wrapt>=1.11.0 in /usr/local/lib/python3.11/dist-packages (from tensorflow==2.13.0->-r requirements.txt (line 17)) (1.17.2)\n",
            "Requirement already satisfied: tensorflow-io-gcs-filesystem>=0.23.1 in /usr/local/lib/python3.11/dist-packages (from tensorflow==2.13.0->-r requirements.txt (line 17)) (0.37.1)\n",
            "Requirement already satisfied: gdown>=4.2.0 in /usr/local/lib/python3.11/dist-packages (from opennsfw2==0.10.2->-r requirements.txt (line 18)) (5.2.0)\n",
            "Requirement already satisfied: basicsr>=1.4.2 in /usr/local/lib/python3.11/dist-packages (from gfpgan==1.3.8->-r requirements.txt (line 21)) (1.4.2)\n",
            "Requirement already satisfied: facexlib>=0.2.5 in /usr/local/lib/python3.11/dist-packages (from gfpgan==1.3.8->-r requirements.txt (line 21)) (0.3.0)\n",
            "Requirement already satisfied: lmdb in /usr/local/lib/python3.11/dist-packages (from gfpgan==1.3.8->-r requirements.txt (line 21)) (1.6.2)\n",
            "Requirement already satisfied: pyyaml in /usr/local/lib/python3.11/dist-packages (from gfpgan==1.3.8->-r requirements.txt (line 21)) (6.0.2)\n",
            "Requirement already satisfied: tb-nightly in /usr/local/lib/python3.11/dist-packages (from gfpgan==1.3.8->-r requirements.txt (line 21)) (2.19.0a20250202)\n",
            "Requirement already satisfied: torch>=1.7 in /usr/local/lib/python3.11/dist-packages (from gfpgan==1.3.8->-r requirements.txt (line 21)) (2.1.2+cu118)\n",
            "Requirement already satisfied: torchvision in /usr/local/lib/python3.11/dist-packages (from gfpgan==1.3.8->-r requirements.txt (line 21)) (0.16.2+cu118)\n",
            "Requirement already satisfied: yapf in /usr/local/lib/python3.11/dist-packages (from gfpgan==1.3.8->-r requirements.txt (line 21)) (0.43.0)\n",
            "Requirement already satisfied: wheel<1.0,>=0.23.0 in /usr/local/lib/python3.11/dist-packages (from astunparse>=1.6.0->tensorflow==2.13.0->-r requirements.txt (line 17)) (0.45.1)\n",
            "Requirement already satisfied: addict in /usr/local/lib/python3.11/dist-packages (from basicsr>=1.4.2->gfpgan==1.3.8->-r requirements.txt (line 21)) (2.4.0)\n",
            "Requirement already satisfied: future in /usr/local/lib/python3.11/dist-packages (from basicsr>=1.4.2->gfpgan==1.3.8->-r requirements.txt (line 21)) (1.0.0)\n",
            "Requirement already satisfied: filterpy in /usr/local/lib/python3.11/dist-packages (from facexlib>=0.2.5->gfpgan==1.3.8->-r requirements.txt (line 21)) (1.4.5)\n",
            "Requirement already satisfied: numba in /usr/local/lib/python3.11/dist-packages (from facexlib>=0.2.5->gfpgan==1.3.8->-r requirements.txt (line 21)) (0.60.0)\n",
            "Requirement already satisfied: beautifulsoup4 in /usr/local/lib/python3.11/dist-packages (from gdown>=4.2.0->opennsfw2==0.10.2->-r requirements.txt (line 18)) (4.12.3)\n",
            "Requirement already satisfied: filelock in /usr/local/lib/python3.11/dist-packages (from gdown>=4.2.0->opennsfw2==0.10.2->-r requirements.txt (line 18)) (3.17.0)\n",
            "Requirement already satisfied: contourpy>=1.0.1 in /usr/local/lib/python3.11/dist-packages (from matplotlib->insightface==0.7.3->-r requirements.txt (line 6)) (1.3.1)\n",
            "Requirement already satisfied: cycler>=0.10 in /usr/local/lib/python3.11/dist-packages (from matplotlib->insightface==0.7.3->-r requirements.txt (line 6)) (0.12.1)\n",
            "Requirement already satisfied: fonttools>=4.22.0 in /usr/local/lib/python3.11/dist-packages (from matplotlib->insightface==0.7.3->-r requirements.txt (line 6)) (4.55.7)\n",
            "Requirement already satisfied: kiwisolver>=1.3.1 in /usr/local/lib/python3.11/dist-packages (from matplotlib->insightface==0.7.3->-r requirements.txt (line 6)) (1.4.8)\n",
            "Requirement already satisfied: pyparsing>=2.3.1 in /usr/local/lib/python3.11/dist-packages (from matplotlib->insightface==0.7.3->-r requirements.txt (line 6)) (3.2.1)\n",
            "Requirement already satisfied: python-dateutil>=2.7 in /usr/local/lib/python3.11/dist-packages (from matplotlib->insightface==0.7.3->-r requirements.txt (line 6)) (2.8.2)\n",
            "Requirement already satisfied: networkx>=2.8 in /usr/local/lib/python3.11/dist-packages (from scikit-image->insightface==0.7.3->-r requirements.txt (line 6)) (3.4.2)\n",
            "Requirement already satisfied: imageio>=2.33 in /usr/local/lib/python3.11/dist-packages (from scikit-image->insightface==0.7.3->-r requirements.txt (line 6)) (2.36.1)\n",
            "Requirement already satisfied: tifffile>=2022.8.12 in /usr/local/lib/python3.11/dist-packages (from scikit-image->insightface==0.7.3->-r requirements.txt (line 6)) (2025.1.10)\n",
            "Requirement already satisfied: lazy-loader>=0.4 in /usr/local/lib/python3.11/dist-packages (from scikit-image->insightface==0.7.3->-r requirements.txt (line 6)) (0.4)\n",
            "Requirement already satisfied: google-auth<3,>=1.6.3 in /usr/local/lib/python3.11/dist-packages (from tensorboard<2.14,>=2.13->tensorflow==2.13.0->-r requirements.txt (line 17)) (2.27.0)\n",
            "Requirement already satisfied: google-auth-oauthlib<1.1,>=0.5 in /usr/local/lib/python3.11/dist-packages (from tensorboard<2.14,>=2.13->tensorflow==2.13.0->-r requirements.txt (line 17)) (1.0.0)\n",
            "Requirement already satisfied: markdown>=2.6.8 in /usr/local/lib/python3.11/dist-packages (from tensorboard<2.14,>=2.13->tensorflow==2.13.0->-r requirements.txt (line 17)) (3.7)\n",
            "Requirement already satisfied: tensorboard-data-server<0.8.0,>=0.7.0 in /usr/local/lib/python3.11/dist-packages (from tensorboard<2.14,>=2.13->tensorflow==2.13.0->-r requirements.txt (line 17)) (0.7.2)\n",
            "Requirement already satisfied: werkzeug>=1.0.1 in /usr/local/lib/python3.11/dist-packages (from tensorboard<2.14,>=2.13->tensorflow==2.13.0->-r requirements.txt (line 17)) (3.1.3)\n",
            "Requirement already satisfied: charset-normalizer<4,>=2 in /usr/local/lib/python3.11/dist-packages (from requests->insightface==0.7.3->-r requirements.txt (line 6)) (3.4.1)\n",
            "Requirement already satisfied: idna<4,>=2.5 in /usr/local/lib/python3.11/dist-packages (from requests->insightface==0.7.3->-r requirements.txt (line 6)) (3.10)\n",
            "Requirement already satisfied: urllib3<3,>=1.21.1 in /usr/local/lib/python3.11/dist-packages (from requests->insightface==0.7.3->-r requirements.txt (line 6)) (2.3.0)\n",
            "Requirement already satisfied: certifi>=2017.4.17 in /usr/local/lib/python3.11/dist-packages (from requests->insightface==0.7.3->-r requirements.txt (line 6)) (2024.12.14)\n",
            "Requirement already satisfied: jinja2 in /usr/local/lib/python3.11/dist-packages (from torch>=1.7->gfpgan==1.3.8->-r requirements.txt (line 21)) (3.1.5)\n",
            "Requirement already satisfied: fsspec in /usr/local/lib/python3.11/dist-packages (from torch>=1.7->gfpgan==1.3.8->-r requirements.txt (line 21)) (2024.10.0)\n",
            "Requirement already satisfied: triton==2.1.0 in /usr/local/lib/python3.11/dist-packages (from torch>=1.7->gfpgan==1.3.8->-r requirements.txt (line 21)) (2.1.0)\n",
            "Requirement already satisfied: qudida>=0.0.4 in /usr/local/lib/python3.11/dist-packages (from albumentations->insightface==0.7.3->-r requirements.txt (line 6)) (0.0.4)\n",
            "Requirement already satisfied: opencv-python-headless>=4.1.1 in /usr/local/lib/python3.11/dist-packages (from albumentations->insightface==0.7.3->-r requirements.txt (line 6)) (4.11.0.86)\n",
            "Requirement already satisfied: humanfriendly>=9.1 in /usr/local/lib/python3.11/dist-packages (from coloredlogs->onnxruntime-gpu==1.15.1->-r requirements.txt (line 16)) (10.0)\n",
            "Requirement already satisfied: wcwidth in /usr/local/lib/python3.11/dist-packages (from prettytable->insightface==0.7.3->-r requirements.txt (line 6)) (0.2.13)\n",
            "Requirement already satisfied: joblib>=1.2.0 in /usr/local/lib/python3.11/dist-packages (from scikit-learn->insightface==0.7.3->-r requirements.txt (line 6)) (1.4.2)\n",
            "Requirement already satisfied: threadpoolctl>=3.1.0 in /usr/local/lib/python3.11/dist-packages (from scikit-learn->insightface==0.7.3->-r requirements.txt (line 6)) (3.5.0)\n",
            "Requirement already satisfied: mpmath<1.4,>=1.1.0 in /usr/local/lib/python3.11/dist-packages (from sympy->onnxruntime-gpu==1.15.1->-r requirements.txt (line 16)) (1.3.0)\n",
            "Requirement already satisfied: platformdirs>=3.5.1 in /usr/local/lib/python3.11/dist-packages (from yapf->gfpgan==1.3.8->-r requirements.txt (line 21)) (4.3.6)\n",
            "Requirement already satisfied: cachetools<6.0,>=2.0.0 in /usr/local/lib/python3.11/dist-packages (from google-auth<3,>=1.6.3->tensorboard<2.14,>=2.13->tensorflow==2.13.0->-r requirements.txt (line 17)) (5.5.1)\n",
            "Requirement already satisfied: pyasn1-modules>=0.2.1 in /usr/local/lib/python3.11/dist-packages (from google-auth<3,>=1.6.3->tensorboard<2.14,>=2.13->tensorflow==2.13.0->-r requirements.txt (line 17)) (0.4.1)\n",
            "Requirement already satisfied: rsa<5,>=3.1.4 in /usr/local/lib/python3.11/dist-packages (from google-auth<3,>=1.6.3->tensorboard<2.14,>=2.13->tensorflow==2.13.0->-r requirements.txt (line 17)) (4.9)\n",
            "Requirement already satisfied: requests-oauthlib>=0.7.0 in /usr/local/lib/python3.11/dist-packages (from google-auth-oauthlib<1.1,>=0.5->tensorboard<2.14,>=2.13->tensorflow==2.13.0->-r requirements.txt (line 17)) (1.3.1)\n",
            "Requirement already satisfied: MarkupSafe>=2.1.1 in /usr/local/lib/python3.11/dist-packages (from werkzeug>=1.0.1->tensorboard<2.14,>=2.13->tensorflow==2.13.0->-r requirements.txt (line 17)) (3.0.2)\n",
            "Requirement already satisfied: soupsieve>1.2 in /usr/local/lib/python3.11/dist-packages (from beautifulsoup4->gdown>=4.2.0->opennsfw2==0.10.2->-r requirements.txt (line 18)) (2.6)\n",
            "Requirement already satisfied: llvmlite<0.44,>=0.43.0dev0 in /usr/local/lib/python3.11/dist-packages (from numba->facexlib>=0.2.5->gfpgan==1.3.8->-r requirements.txt (line 21)) (0.43.0)\n",
            "Requirement already satisfied: PySocks!=1.5.7,>=1.5.6 in /usr/local/lib/python3.11/dist-packages (from requests[socks]->gdown>=4.2.0->opennsfw2==0.10.2->-r requirements.txt (line 18)) (1.7.1)\n",
            "Requirement already satisfied: pyasn1<0.7.0,>=0.4.6 in /usr/local/lib/python3.11/dist-packages (from pyasn1-modules>=0.2.1->google-auth<3,>=1.6.3->tensorboard<2.14,>=2.13->tensorflow==2.13.0->-r requirements.txt (line 17)) (0.6.1)\n",
            "Requirement already satisfied: oauthlib>=3.0.0 in /usr/local/lib/python3.11/dist-packages (from requests-oauthlib>=0.7.0->google-auth-oauthlib<1.1,>=0.5->tensorboard<2.14,>=2.13->tensorflow==2.13.0->-r requirements.txt (line 17)) (3.2.2)\n"
          ]
        }
      ],
      "source": [
        "!git clone https://github.com/s0md3v/roop.git\n",
        "%cd roop\n",
        "!pip install -r requirements.txt"
      ]
    },
    {
      "cell_type": "markdown",
      "metadata": {
        "id": "jl9zIFZYGWTQ"
      },
      "source": [
        "#Download the Model"
      ]
    },
    {
      "cell_type": "code",
      "execution_count": 2,
      "metadata": {
        "id": "UQH2exUYGTbK",
        "outputId": "510d7a44-0fc3-48f7-fed7-0167a41ce082",
        "colab": {
          "base_uri": "https://localhost:8080/"
        }
      },
      "outputs": [
        {
          "output_type": "stream",
          "name": "stdout",
          "text": [
            "--2025-02-02 11:43:46--  https://huggingface.co/ezioruan/inswapper_128.onnx/resolve/main/inswapper_128.onnx\n",
            "Resolving huggingface.co (huggingface.co)... 3.165.160.61, 3.165.160.59, 3.165.160.12, ...\n",
            "Connecting to huggingface.co (huggingface.co)|3.165.160.61|:443... connected.\n",
            "HTTP request sent, awaiting response... 302 Found\n",
            "Location: https://cdn-lfs.hf.co/repos/40/3c/403ce23d3f5c02a28fcbe749205d5c8245b2812e6c948bae7abac24495779bc7/e4a3f08c753cb72d04e10aa0f7dbe3deebbf39567d4ead6dce08e98aa49e16af?response-content-disposition=inline%3B+filename*%3DUTF-8%27%27inswapper_128.onnx%3B+filename%3D%22inswapper_128.onnx%22%3B&Expires=1738500226&Policy=eyJTdGF0ZW1lbnQiOlt7IkNvbmRpdGlvbiI6eyJEYXRlTGVzc1RoYW4iOnsiQVdTOkVwb2NoVGltZSI6MTczODUwMDIyNn19LCJSZXNvdXJjZSI6Imh0dHBzOi8vY2RuLWxmcy5oZi5jby9yZXBvcy80MC8zYy80MDNjZTIzZDNmNWMwMmEyOGZjYmU3NDkyMDVkNWM4MjQ1YjI4MTJlNmM5NDhiYWU3YWJhYzI0NDk1Nzc5YmM3L2U0YTNmMDhjNzUzY2I3MmQwNGUxMGFhMGY3ZGJlM2RlZWJiZjM5NTY3ZDRlYWQ2ZGNlMDhlOThhYTQ5ZTE2YWY%7EcmVzcG9uc2UtY29udGVudC1kaXNwb3NpdGlvbj0qIn1dfQ__&Signature=cL6fC8m3E9iCCx%7EO8umkbq-8VEfZQ8hXWk6lD2Lssul7yYsjaoIQbVPq82fnbPFf7lDl302mlwZFVSD70fdxbQ2fEPpy3IGAhepkhTVlMsVgBEN0LgYv3H3RN9RsNVf2G3UdPyoBBGnGRVJ%7ErOYKrV4pj%7EU1ZVH8-1whsWmokFfKjaONCPWZzXWjt6CFRpihIf%7Ezhhv%7E%7E5FYMACHkThAR-OB4Yml7SHEOTXST3YViajq%7E5ArCaItHCgJUapRKBO4LyrXrLlc7qiHMvuPwbtX5kTsOPvfvQSbfS1HLM1an8Y8hxp-LgX6roYy%7EHq%7Et-89tw1rsQeZj5UwAYxH%7EYDzGw__&Key-Pair-Id=K3RPWS32NSSJCE [following]\n",
            "--2025-02-02 11:43:46--  https://cdn-lfs.hf.co/repos/40/3c/403ce23d3f5c02a28fcbe749205d5c8245b2812e6c948bae7abac24495779bc7/e4a3f08c753cb72d04e10aa0f7dbe3deebbf39567d4ead6dce08e98aa49e16af?response-content-disposition=inline%3B+filename*%3DUTF-8%27%27inswapper_128.onnx%3B+filename%3D%22inswapper_128.onnx%22%3B&Expires=1738500226&Policy=eyJTdGF0ZW1lbnQiOlt7IkNvbmRpdGlvbiI6eyJEYXRlTGVzc1RoYW4iOnsiQVdTOkVwb2NoVGltZSI6MTczODUwMDIyNn19LCJSZXNvdXJjZSI6Imh0dHBzOi8vY2RuLWxmcy5oZi5jby9yZXBvcy80MC8zYy80MDNjZTIzZDNmNWMwMmEyOGZjYmU3NDkyMDVkNWM4MjQ1YjI4MTJlNmM5NDhiYWU3YWJhYzI0NDk1Nzc5YmM3L2U0YTNmMDhjNzUzY2I3MmQwNGUxMGFhMGY3ZGJlM2RlZWJiZjM5NTY3ZDRlYWQ2ZGNlMDhlOThhYTQ5ZTE2YWY%7EcmVzcG9uc2UtY29udGVudC1kaXNwb3NpdGlvbj0qIn1dfQ__&Signature=cL6fC8m3E9iCCx%7EO8umkbq-8VEfZQ8hXWk6lD2Lssul7yYsjaoIQbVPq82fnbPFf7lDl302mlwZFVSD70fdxbQ2fEPpy3IGAhepkhTVlMsVgBEN0LgYv3H3RN9RsNVf2G3UdPyoBBGnGRVJ%7ErOYKrV4pj%7EU1ZVH8-1whsWmokFfKjaONCPWZzXWjt6CFRpihIf%7Ezhhv%7E%7E5FYMACHkThAR-OB4Yml7SHEOTXST3YViajq%7E5ArCaItHCgJUapRKBO4LyrXrLlc7qiHMvuPwbtX5kTsOPvfvQSbfS1HLM1an8Y8hxp-LgX6roYy%7EHq%7Et-89tw1rsQeZj5UwAYxH%7EYDzGw__&Key-Pair-Id=K3RPWS32NSSJCE\n",
            "Resolving cdn-lfs.hf.co (cdn-lfs.hf.co)... 18.238.217.81, 18.238.217.120, 18.238.217.63, ...\n",
            "Connecting to cdn-lfs.hf.co (cdn-lfs.hf.co)|18.238.217.81|:443... connected.\n",
            "HTTP request sent, awaiting response... 200 OK\n",
            "Length: 554253681 (529M) [binary/octet-stream]\n",
            "Saving to: ‘inswapper_128.onnx’\n",
            "\n",
            "inswapper_128.onnx  100%[===================>] 528.58M  97.3MB/s    in 6.4s    \n",
            "\n",
            "2025-02-02 11:43:53 (82.6 MB/s) - ‘inswapper_128.onnx’ saved [554253681/554253681]\n",
            "\n"
          ]
        }
      ],
      "source": [
        "!wget https://huggingface.co/ezioruan/inswapper_128.onnx/resolve/main/inswapper_128.onnx -O inswapper_128.onnx\n",
        "!mkdir models\n",
        "!mv inswapper_128.onnx ./models"
      ]
    },
    {
      "cell_type": "markdown",
      "metadata": {
        "id": "nCKli1C-_EaO"
      },
      "source": [
        "# Replace the\n",
        "\n",
        "```\n",
        "/content/video.mp4 # with your video path\n",
        "/content/image.jpeg # with your image to be placed in the video path\n",
        "```\n",
        "\n"
      ]
    },
    {
      "cell_type": "code",
      "execution_count": 11,
      "metadata": {
        "colab": {
          "base_uri": "https://localhost:8080/"
        },
        "id": "lDYdfL3L71i1",
        "outputId": "bda8c9a9-3c60-4a77-9a97-c02ef0f9c6f9"
      },
      "outputs": [
        {
          "output_type": "stream",
          "name": "stdout",
          "text": [
            "usage: run.py [-h] [-s SOURCE_PATH] [-t TARGET_PATH] [-o OUTPUT_PATH]\n",
            "              [--frame-processor FRAME_PROCESSOR [FRAME_PROCESSOR ...]] [--keep-fps]\n",
            "              [--keep-frames] [--skip-audio] [--many-faces]\n",
            "              [--reference-face-position REFERENCE_FACE_POSITION]\n",
            "              [--reference-frame-number REFERENCE_FRAME_NUMBER]\n",
            "              [--similar-face-distance SIMILAR_FACE_DISTANCE] [--temp-frame-format {jpg,png}]\n",
            "              [--temp-frame-quality [0-100]]\n",
            "              [--output-video-encoder {libx264,libx265,libvpx-vp9,h264_nvenc,hevc_nvenc}]\n",
            "              [--output-video-quality [0-100]] [--max-memory MAX_MEMORY]\n",
            "              [--execution-provider {tensorrt,cuda,cpu} [{tensorrt,cuda,cpu} ...]]\n",
            "              [--execution-threads EXECUTION_THREADS] [-v]\n",
            "run.py: error: unrecognized arguments: @anshikaav.jpg\n"
          ]
        }
      ],
      "source": [
        "!python run.py --target /content/Task-30454956-3-1-4K.png  --source /content/imgs.jpg -o /content/swapped_2.jpg --execution-provider cuda --frame-processor face_swapper face_enhancer"
      ]
    },
    {
      "cell_type": "code",
      "execution_count": null,
      "metadata": {
        "id": "dB-yigWx8zht"
      },
      "outputs": [],
      "source": []
    }
  ],
  "metadata": {
    "accelerator": "GPU",
    "colab": {
      "provenance": [],
      "include_colab_link": true
    },
    "kernelspec": {
      "display_name": "Python 3",
      "name": "python3"
    },
    "language_info": {
      "name": "python"
    }
  },
  "nbformat": 4,
  "nbformat_minor": 0
}